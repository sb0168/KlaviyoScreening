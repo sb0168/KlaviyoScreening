{
 "cells": [
  {
   "cell_type": "markdown",
   "metadata": {
    "collapsed": true,
    "pycharm": {
     "is_executing": false,
     "name": "#%% \n"
    }
   },
   "source": [
    "Name: Sai Akhil Bharthavarapu\n",
    "\n",
    "Email: sb0168@mix.wvu.edu"
   ]
  },
  {
   "cell_type": "markdown",
   "metadata": {},
   "source": [
    "# Question A"
   ]
  },
  {
   "cell_type": "code",
   "execution_count": 6,
   "metadata": {
    "pycharm": {
     "is_executing": false,
     "name": "#%%\n"
    }
   },
   "outputs": [
    {
     "name": "stdout",
     "output_type": "stream",
     "text": [
      "                   most_recent_order_date  order_count\n",
      "customer_id gender                                    \n",
      "1000        0         2017-01-01 00:11:31            1\n",
      "1001        0         2017-01-01 00:29:56            1\n",
      "1002        1         2017-02-19 21:35:31            3\n",
      "1003        1         2017-04-26 02:37:20            4\n",
      "1004        0         2017-01-01 03:11:54            1\n",
      "1005        1         2017-12-16 01:39:27            2\n",
      "1006        1         2017-05-09 15:27:20            3\n",
      "1007        0         2017-01-01 15:59:50            1\n",
      "1008        0         2017-12-17 05:47:48            3\n",
      "1009        1         2017-01-01 19:27:17            1\n"
     ]
    }
   ],
   "source": [
    "# Question A\n",
    "\n",
    "import pandas as pd\n",
    "\n",
    "data = pd.read_csv('screening_exercise_orders_v201810.csv')\n",
    "\n",
    "data.sort_values(by=[\"customer_id\", \"date\"])\n",
    "a = data.groupby([\"customer_id\", \"gender\"]).agg(most_recent_order_date = (\"date\", \"last\"), order_count = (\"customer_id\", \"count\"))\n",
    "a = a.sort_values(by = [\"customer_id\"])\n",
    "print(a.head(10))"
   ]
  },
  {
   "cell_type": "markdown",
   "metadata": {},
   "source": [
    "# Question B"
   ]
  },
  {
   "cell_type": "code",
   "execution_count": 7,
   "metadata": {
    "pycharm": {
     "is_executing": true,
     "name": "#%%\n"
    }
   },
   "outputs": [
    {
     "data": {
      "image/png": "[encoded data removed]",
      "text/plain": [
       "<Figure size 432x288 with 1 Axes>"
      ]
     },
     "metadata": {
      "needs_background": "light"
     },
     "output_type": "display_data"
    }
   ],
   "source": [
    "# Question B\n",
    "\n",
    "import matplotlib.pyplot as plt\n",
    "\n",
    "data[\"date\"] = pd.to_datetime(data.date, format=\"%Y-%m-%d\")\n",
    "b = data.groupby(data.date.dt.weekofyear)[\"customer_id\"].count()\n",
    "plt.title(\"Count of orders per week\")\n",
    "plt.xlabel(\"# Week\")\n",
    "plt.ylabel(\"Count of orders\")\n",
    "plt.plot(b)\n",
    "plt.show()"
   ]
  },
  {
   "cell_type": "markdown",
   "metadata": {},
   "source": [
    "# Question C\n",
    "# Assuming Men to be 0 and Women to be 1"
   ]
  },
  {
   "cell_type": "code",
   "execution_count": 8,
   "metadata": {
    "pycharm": {
     "is_executing": true,
     "name": "#%%\n"
    }
   },
   "outputs": [
    {
     "name": "stdout",
     "output_type": "stream",
     "text": [
      "        mean_value\n",
      "gender            \n",
      "0       363.890006\n",
      "1       350.708361\n"
     ]
    }
   ],
   "source": [
    "# Question C\n",
    "\n",
    "c = data.groupby(\"gender\").agg(mean_value = (\"value\", \"mean\"))\n",
    "print(c)"
   ]
  },
  {
   "cell_type": "markdown",
   "metadata": {},
   "source": [
    "There is almost 13.2 difference between the mean values. Everytime a male customer goes into the store, they purchase things worth 13.2 more than that of the female customers on an average. This is the most interesting part as female customers do a lot of shopping in general (Just kidding)."
   ]
  },
  {
   "cell_type": "markdown",
   "metadata": {},
   "source": [
    "# Question D\n",
    "# Assuming Men to be positive and Women to be negative in this case for the sake of terminology"
   ]
  },
  {
   "cell_type": "code",
   "execution_count": 9,
   "metadata": {
    "pycharm": {
     "is_executing": true,
     "name": "#%%\n"
    }
   },
   "outputs": [
    {
     "name": "stdout",
     "output_type": "stream",
     "text": [
      "Assuming Men to be positive and Women to be negative in this case for the sake of terminology\n",
      "\n",
      "Predicted Men as Men (True Positive):  3349\n",
      "Predicted Men as Women (False Negative):  3410\n",
      "Predicted Women as Men (False Positive):  1463\n",
      "Predicted Women as Women (True Negative):  5249\n",
      "\n",
      "Confusion Matrix:  [[3349, 3410], [1463, 5249]]\n",
      "\n",
      "Classification Accuracy of the model:  63.83 %\n",
      "\n",
      "*********Stats for the class Men*********\n",
      "Recall for Class Men:  0.4955\n",
      "Precision for Class Men:  0.696\n",
      "F-Measure for Class Men:  0.5789\n",
      "\n",
      "*********Stats for the class Women*********\n",
      "Recall for Class Women:  0.782\n",
      "Precision for Class Women:  0.6062\n",
      "F-Measure for Class Women:  0.683\n"
     ]
    }
   ],
   "source": [
    "# Question D\n",
    "\n",
    "d = data[[\"gender\", \"predicted_gender\"]]\n",
    "d = d.to_numpy()\n",
    "actual = d[:, 0]\n",
    "predicted = d[:, 1]\n",
    "# print(actual, predicted)\n",
    "men_as_men, women_as_women, men_as_women, women_as_men = 0, 0, 0, 0\n",
    "\n",
    "for i in range(len(actual)):\n",
    "    if actual[i] == predicted[i] and actual[i] == 0:\n",
    "        men_as_men += 1\n",
    "    if actual[i] == predicted[i] and actual[i] == 1:\n",
    "        women_as_women += 1\n",
    "    if actual[i] != predicted[i] and actual[i] == 0:\n",
    "        men_as_women += 1\n",
    "    if actual[i] != predicted[i] and actual[i] == 1:\n",
    "        women_as_men += 1\n",
    "\n",
    "print(\"Assuming Men to be positive and Women to be negative in this case for the sake of terminology\")\n",
    "print(\"\\nPredicted Men as Men (True Positive): \", men_as_men)\n",
    "print(\"Predicted Men as Women (False Negative): \", men_as_women)\n",
    "print(\"Predicted Women as Men (False Positive): \", women_as_men)\n",
    "print(\"Predicted Women as Women (True Negative): \", women_as_women)\n",
    "confusion_matrix = [[men_as_men, men_as_women], [women_as_men, women_as_women]]\n",
    "print(\"\\nConfusion Matrix: \", confusion_matrix)\n",
    "\n",
    "# Classification Accuracy, Recall, Precision and F-Measure Stats\n",
    "classification_accuracy = (men_as_men + women_as_women) / (men_as_men + men_as_women + women_as_women + women_as_men)\n",
    "recall_men = men_as_men / (men_as_men + men_as_women)\n",
    "recall_women = women_as_women / (women_as_women + women_as_men)\n",
    "precision_men = men_as_men / (men_as_men + women_as_men)\n",
    "precision_women = women_as_women / (women_as_women + men_as_women)\n",
    "fmeasure_men = 2 * recall_men * precision_men / (recall_men + precision_men)\n",
    "fmeasure_women = 2 * recall_women * precision_women / (recall_women + precision_women)\n",
    "\n",
    "print(\"\\nClassification Accuracy of the model: \", round(classification_accuracy * 100, 2), \"%\")\n",
    "print(\"\\n*********Stats for the class Men*********\")\n",
    "print(\"Recall for Class Men: \", round(recall_men, 4))\n",
    "print(\"Precision for Class Men: \", round(precision_men, 4))\n",
    "print(\"F-Measure for Class Men: \", round(fmeasure_men, 4))\n",
    "print(\"\\n*********Stats for the class Women*********\")\n",
    "print(\"Recall for Class Women: \", round(recall_women, 4))\n",
    "print(\"Precision for Class Women: \", round(precision_women, 4))\n",
    "print(\"F-Measure for Class Women: \", round(fmeasure_women, 4))"
   ]
  },
  {
   "cell_type": "markdown",
   "metadata": {
    "pycharm": {
     "name": "#%% md\n"
    }
   },
   "source": [
    "Inference from the confusion matrix\n",
    "1. In case of class men, there is a low recall and high precision. Which means that we missed lot of men samples (high samples of men predicted as women). But if a sample is predicted to be men, there is 69.6% chance that it is truly predicted.\n",
    "\n",
    "2. In case of class women, there is high recall and low precision. This means that most of the men samples are truly predicted as men. But there are lot of women samples predicted as men. This is the reason for the low precision. When the sample is actually women, there is 78.2% chance that the model predicts it as women."
   ]
  },
  {
   "cell_type": "markdown",
   "metadata": {
    "pycharm": {
     "name": "#%% md\n"
    }
   },
   "source": [
    "# Question E\n",
    "\n",
    "I worked on the images from the Positron Emission Tomography (PET) scans. The main part of the image is concentrated at the center of the image. The image is the light distribution onto the scintillator. I used convolutional neural netowrk to extract the information from the images. The most challenging task is to get the information from the noisy images. I decided to use the Gaussian Blur technique to reduce the noise in the images which helped me in fetching some amazing results. This is by far my most favorite technique."
   ]
  }
 ],
 "metadata": {
  "kernelspec": {
   "display_name": "Python 3",
   "language": "python",
   "name": "python3"
  },
  "language_info": {
   "codemirror_mode": {
    "name": "ipython",
    "version": 3
   },
   "file_extension": ".py",
   "mimetype": "text/x-python",
   "name": "python",
   "nbconvert_exporter": "python",
   "pygments_lexer": "ipython3",
   "version": "3.7.3"
  },
  "pycharm": {
   "stem_cell": {
    "cell_type": "raw",
    "metadata": {
     "collapsed": false
    },
    "source": []
   }
  }
 },
 "nbformat": 4,
 "nbformat_minor": 1
}
